{
  "nbformat": 4,
  "nbformat_minor": 0,
  "metadata": {
    "colab": {
      "provenance": []
    },
    "kernelspec": {
      "name": "python3",
      "display_name": "Python 3"
    },
    "language_info": {
      "name": "python"
    }
  },
  "cells": [
    {
      "cell_type": "code",
      "source": [
        "import pandas as pd\n",
        "from sklearn.metrics.pairwise import cosine_similarity\n"
      ],
      "metadata": {
        "id": "JgLj3xkzFIKl"
      },
      "execution_count": 21,
      "outputs": []
    },
    {
      "cell_type": "code",
      "source": [
        "ratings = pd.read_csv('BX-Book-Ratings.csv', sep=';', encoding='latin-1', on_bad_lines='skip')\n",
        "books = pd.read_csv('BX_Books.csv', sep=';', encoding='latin-1', on_bad_lines='skip', low_memory=False)\n",
        "ratings.columns = ['userID', 'ISBN', 'bookRating']\n",
        "books.columns = ['ISBN', 'bookTitle', 'bookAuthor', 'yearOfPublication', 'publisher', 'imageUrlS', 'imageUrlM', 'imageUrlL']\n",
        "ratings = ratings[ratings['bookRating'] > 0]\n"
      ],
      "metadata": {
        "id": "d9FEyrx8FLye"
      },
      "execution_count": 23,
      "outputs": []
    },
    {
      "cell_type": "code",
      "source": [
        "active_users = ratings['userID'].value_counts()\n",
        "filtered_users = active_users[active_users > 50].index\n",
        "ratings = ratings[ratings['userID'].isin(filtered_users)]\n",
        "\n",
        "popular_books = ratings['ISBN'].value_counts()\n",
        "filtered_books = popular_books[popular_books > 20].index\n",
        "ratings = ratings[ratings['ISBN'].isin(filtered_books)]\n"
      ],
      "metadata": {
        "id": "bvdC0A4LFLsN"
      },
      "execution_count": 24,
      "outputs": []
    },
    {
      "cell_type": "code",
      "source": [
        "rating_matrix = ratings.pivot_table(index='userID', columns='ISBN', values='bookRating').fillna(0)\n",
        "print(\"✅ Rating matrix shape:\", rating_matrix.shape)\n"
      ],
      "metadata": {
        "colab": {
          "base_uri": "https://localhost:8080/"
        },
        "id": "nEYy1XuvFhFH",
        "outputId": "179cb160-43f8-4345-c94a-9ba697a8bf06"
      },
      "execution_count": 25,
      "outputs": [
        {
          "output_type": "stream",
          "name": "stdout",
          "text": [
            "✅ Rating matrix shape: (1157, 325)\n"
          ]
        }
      ]
    },
    {
      "cell_type": "code",
      "source": [
        "user_similarity = cosine_similarity(rating_matrix)\n",
        "user_similarity_df = pd.DataFrame(user_similarity, index=rating_matrix.index, columns=rating_matrix.index)\n"
      ],
      "metadata": {
        "id": "BmjQeQCxFg0o"
      },
      "execution_count": 26,
      "outputs": []
    },
    {
      "cell_type": "code",
      "source": [
        "def get_similar_users(user_id, n=5):\n",
        "    if user_id not in user_similarity_df.index:\n",
        "        print(f\"❌ User {user_id} not found.\")\n",
        "        return []\n",
        "    return user_similarity_df[user_id].sort_values(ascending=False)[1:n+1].index\n",
        "\n"
      ],
      "metadata": {
        "id": "sBXm8qsbFo_E"
      },
      "execution_count": 27,
      "outputs": []
    },
    {
      "cell_type": "code",
      "source": [
        "def recommend_books(user_id, n=5):\n",
        "    similar_users = get_similar_users(user_id)\n",
        "    if similar_users.empty:\n",
        "        return\n",
        "\n",
        "    user_books = set(rating_matrix.columns[rating_matrix.loc[user_id] > 0])\n",
        "    scores = {}\n",
        "\n",
        "    for sim_user in similar_users:\n",
        "        sim_ratings = rating_matrix.loc[sim_user]\n",
        "        for book in sim_ratings.index:\n",
        "            if book not in user_books and sim_ratings[book] > 0:\n",
        "                scores.setdefault(book, []).append(sim_ratings[book])\n",
        "\n",
        "    avg_scores = {book: sum(score_list)/len(score_list) for book, score_list in scores.items()}\n",
        "    top_books = sorted(avg_scores.items(), key=lambda x: x[1], reverse=True)[:n]\n",
        "\n",
        "    print(f\"\\n📚 Top {n} Book Recommendations for User {user_id}:\\n\")\n",
        "    for isbn, score in top_books:\n",
        "        title = books[books['ISBN'] == isbn]['bookTitle'].values\n",
        "        print(f\"✔️ {title[0] if len(title) else 'Unknown'} (Score: {score:.2f})\")"
      ],
      "metadata": {
        "id": "Mtj_xnHqFo1Y"
      },
      "execution_count": 30,
      "outputs": []
    },
    {
      "cell_type": "code",
      "source": [
        "sample_user = rating_matrix.index[0]\n",
        "print(\"✅ Sample valid user ID:\", sample_user)\n",
        "recommend_books(user_id=sample_user, n=5)\n"
      ],
      "metadata": {
        "colab": {
          "base_uri": "https://localhost:8080/"
        },
        "id": "3JFW8nDWF1Ku",
        "outputId": "8a33d3c0-6955-4383-d0da-9ea146934579"
      },
      "execution_count": 31,
      "outputs": [
        {
          "output_type": "stream",
          "name": "stdout",
          "text": [
            "✅ Sample valid user ID: 254\n",
            "\n",
            "📚 Top 5 Book Recommendations for User 254:\n",
            "\n",
            "✔️ The Amazing Adventures of Kavalier & Clay (Score: 10.00)\n",
            "✔️ The Valley of Horses (Score: 10.00)\n",
            "✔️ Harry Potter and the Order of the Phoenix (Book 5) (Score: 10.00)\n",
            "✔️ The Red Tent (Bestselling Backlist) (Score: 10.00)\n",
            "✔️ White Oleander : A Novel (Score: 10.00)\n"
          ]
        }
      ]
    }
  ]
}